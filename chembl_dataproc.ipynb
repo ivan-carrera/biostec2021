{
 "cells": [
  {
   "cell_type": "markdown",
   "metadata": {
    "collapsed": true,
    "pycharm": {
     "name": "#%% md\n"
    }
   },
   "source": [
    "# ChEMBL Data Processing\n",
    "\n",
    "First, we obtain Cellular lines and Compound tables. And we transform them into CSV files for _pandas_ compatibility."
   ]
  },
  {
   "cell_type": "code",
   "execution_count": 1,
   "metadata": {
    "pycharm": {
     "name": "#%%\n"
    }
   },
   "outputs": [
    {
     "name": "stdout",
     "output_type": "stream",
     "text": [
      "unable to open database file\n"
     ]
    },
    {
     "ename": "AttributeError",
     "evalue": "'NoneType' object has no attribute 'cursor'",
     "output_type": "error",
     "traceback": [
      "\u001B[1;31m---------------------------------------------------------------------------\u001B[0m",
      "\u001B[1;31mAttributeError\u001B[0m                            Traceback (most recent call last)",
      "\u001B[1;32m<ipython-input-1-5332248ea91f>\u001B[0m in \u001B[0;36m<module>\u001B[1;34m\u001B[0m\n\u001B[0;32m      9\u001B[0m     \u001B[0mprint\u001B[0m\u001B[1;33m(\u001B[0m\u001B[0me\u001B[0m\u001B[1;33m)\u001B[0m\u001B[1;33m\u001B[0m\u001B[1;33m\u001B[0m\u001B[0m\n\u001B[0;32m     10\u001B[0m \u001B[1;33m\u001B[0m\u001B[0m\n\u001B[1;32m---> 11\u001B[1;33m \u001B[0mcur\u001B[0m \u001B[1;33m=\u001B[0m \u001B[0mconn\u001B[0m\u001B[1;33m.\u001B[0m\u001B[0mcursor\u001B[0m\u001B[1;33m(\u001B[0m\u001B[1;33m)\u001B[0m\u001B[1;33m\u001B[0m\u001B[1;33m\u001B[0m\u001B[0m\n\u001B[0m\u001B[0;32m     12\u001B[0m \u001B[0mquery\u001B[0m \u001B[1;33m=\u001B[0m \u001B[1;34m\"SELECT DISTINCT c.cell_id, cell_name, cell_description, cell_source_tax_id, cell_source_organism, cellosaurus_id, \"\u001B[0m\u001B[0;31m \u001B[0m\u001B[0;31m\\\u001B[0m\u001B[1;33m\u001B[0m\u001B[1;33m\u001B[0m\u001B[0m\n\u001B[0;32m     13\u001B[0m         \u001B[1;34m\"c.chembl_id FROM cell_dictionary c INNER JOIN assays a ON c.cell_id=a.cell_id\"\u001B[0m\u001B[1;33m\u001B[0m\u001B[1;33m\u001B[0m\u001B[0m\n",
      "\u001B[1;31mAttributeError\u001B[0m: 'NoneType' object has no attribute 'cursor'"
     ]
    }
   ],
   "source": [
    "import sqlite3\n",
    "import pandas as pd\n",
    "\n",
    "database_file = 'data/chembl_27/chembl_27.db'\n",
    "conn = None\n",
    "try:\n",
    "    conn = sqlite3.connect(database_file)\n",
    "except sqlite3.Error as e:\n",
    "    print(e)\n",
    "\n",
    "cur = conn.cursor()\n",
    "query = \"SELECT DISTINCT c.cell_id, cell_name, cell_description, cell_source_tax_id, cell_source_organism, cellosaurus_id, \" \\\n",
    "        \"c.chembl_id FROM cell_dictionary c INNER JOIN assays a ON c.cell_id=a.cell_id\"\n",
    "cur.execute(query)\n",
    "rows = cur.fetchall()\n",
    "\n",
    "cell_df = pd.DataFrame(rows, columns=['cell_id', 'cell_name', 'cell_description', 'cell_source_tax_id',\n",
    "                                          'cell_source_organism', 'cellosaurus_id', 'chembl_id'])\n",
    "print(cell_df.head())"
   ]
  },
  {
   "cell_type": "code",
   "execution_count": null,
   "metadata": {
    "pycharm": {
     "name": "#%%\n"
    }
   },
   "outputs": [],
   "source": [
    "cell_df.to_csv(path_or_buf='data/chembl_27/cell_df.csv',header=True,index=True)"
   ]
  },
  {
   "cell_type": "code",
   "execution_count": null,
   "metadata": {
    "pycharm": {
     "name": "#%%\n"
    }
   },
   "outputs": [],
   "source": [
    "cur = conn.cursor()\n",
    "query = \"SELECT DISTINCT ac.molregno, cs.canonical_smiles FROM activities ac \" \\\n",
    "        \"INNER JOIN assays ay ON ac.assay_id=ay.assay_id \" \\\n",
    "        \"INNER JOIN compound_structures cs ON cs.molregno=ac.molregno \" \\\n",
    "        \"INNER JOIN cell_dictionary cd ON ay.cell_id=cd.cell_id \"\n",
    "cur.execute(query)\n",
    "rows = cur.fetchall()\n",
    "\n",
    "comp_df = pd.DataFrame(rows, columns=['comp_id', 'smiles'])\n",
    "print(comp_df.head())"
   ]
  },
  {
   "cell_type": "code",
   "execution_count": null,
   "metadata": {
    "pycharm": {
     "name": "#%%\n"
    }
   },
   "outputs": [],
   "source": [
    "comp_df.to_csv(path_or_buf='data/chembl_27/comp_df.csv',header=True,index=True)"
   ]
  },
  {
   "cell_type": "markdown",
   "metadata": {
    "pycharm": {
     "name": "#%% md\n"
    }
   },
   "source": [
    "Now we select all the assays and activities of cellular lines"
   ]
  },
  {
   "cell_type": "code",
   "execution_count": null,
   "metadata": {
    "pycharm": {
     "name": "#%%\n"
    }
   },
   "outputs": [],
   "source": [
    "cur = conn.cursor()\n",
    "query = \"SELECT ac.activity_id, ac.assay_id, ac.molregno, ay.cell_id, ac.standard_relation, ac.standard_value, \" \\\n",
    "        \"ac.standard_units, ac.standard_type, ay.assay_cell_type FROM activities ac \" \\\n",
    "        \"INNER JOIN assays ay ON ac.assay_id=ay.assay_id \" \\\n",
    "        \"WHERE ay.cell_id IS NOT NULL\"\n",
    "cur.execute(query)\n",
    "rows = cur.fetchall()\n",
    "\n",
    "activity_df = pd.DataFrame(rows, columns=['activity_id', 'assay_id', 'comp_id', 'cell_id',  'std_relation',\n",
    "                                              'std_value', 'std_units', 'std_type', 'cell_type'])\n",
    "print(activity_df.head())\n",
    "activity_df.to_csv(path_or_buf='data/chembl_27/activity_df.csv',header=True,index=True)"
   ]
  },
  {
   "cell_type": "markdown",
   "metadata": {
    "pycharm": {
     "name": "#%% md\n"
    }
   },
   "source": [
    "This can be repeated for ChEMBL v25, v26, and v24"
   ]
  },
  {
   "cell_type": "code",
   "execution_count": null,
   "metadata": {
    "pycharm": {
     "name": "#%%\n"
    }
   },
   "outputs": [],
   "source": [
    "import pandas as pd\n",
    "import sqlite3\n",
    "\n",
    "\n",
    "for database_dir in ['data/chembl_24/', 'data/chembl_25/', 'data/chembl_26/', 'data/chembl_27/']:\n",
    "    database_file = database_dir + 'chembl_' + database_dir[-3:-1] + '.db'\n",
    "    print(database_file)\n",
    "    conn = None\n",
    "    try:\n",
    "        conn = sqlite3.connect(database_file)\n",
    "    except sqlite3.Error as e:\n",
    "        print(e)\n",
    "\n",
    "    cur = conn.cursor()\n",
    "    query = \"SELECT DISTINCT c.cell_id, cell_name, cell_description, cell_source_tax_id, cell_source_organism, \" \\\n",
    "            \"cellosaurus_id, \" \\\n",
    "            \"c.chembl_id FROM cell_dictionary c INNER JOIN assays a ON c.cell_id=a.cell_id\"\n",
    "    cur.execute(query)\n",
    "    rows = cur.fetchall()\n",
    "\n",
    "    cell_df = pd.DataFrame(rows, columns=['cell_id', 'cell_name', 'cell_description', 'cell_source_tax_id',\n",
    "                                              'cell_source_organism', 'cellosaurus_id', 'chembl_id'])\n",
    "    cell_df.to_csv(path_or_buf=database_dir+'/cell_df.csv', header=True, index=True)\n",
    "\n",
    "    cur = conn.cursor()\n",
    "    query = \"SELECT DISTINCT ac.molregno, md.pref_name, cs.canonical_smiles FROM activities ac \" \\\n",
    "            \"INNER JOIN molecule_dictionary md ON ac.molregno=md.molregno  \" \\\n",
    "            \"INNER JOIN assays ay ON ac.assay_id=ay.assay_id \" \\\n",
    "            \"INNER JOIN compound_structures cs ON cs.molregno=ac.molregno \" \\\n",
    "            \"WHERE ay.cell_id IS NOT NULL\"\n",
    "    cur.execute(query)\n",
    "    rows = cur.fetchall()\n",
    "\n",
    "    comp_df = pd.DataFrame(rows, columns=['comp_id', 'pref_name', 'smiles'])\n",
    "    comp_df.to_csv(path_or_buf=database_dir+'/comp_df.csv', header=True, index=True)\n",
    "\n",
    "    cur = conn.cursor()\n",
    "    query = \"SELECT ac.activity_id, ac.assay_id, ac.molregno, ay.cell_id, ac.standard_relation, ac.standard_value, \" \\\n",
    "            \"ac.standard_units, ac.standard_type, ay.assay_cell_type FROM activities ac \" \\\n",
    "            \"INNER JOIN assays ay ON ac.assay_id=ay.assay_id \" \\\n",
    "            \"INNER JOIN compound_structures cs ON cs.molregno=ac.molregno \" \\\n",
    "            \"WHERE ay.cell_id IS NOT NULL\"\n",
    "    cur.execute(query)\n",
    "    rows = cur.fetchall()\n",
    "\n",
    "    activity_df = pd.DataFrame(rows, columns=['activity_id', 'assay_id', 'comp_id', 'cell_id', 'std_relation',\n",
    "                                                  'std_value', 'std_units', 'std_type', 'cell_type'])\n",
    "    activity_df.to_csv(path_or_buf=database_dir+'/activity_df.csv', header=True, index=True)"
   ]
  },
  {
   "cell_type": "markdown",
   "metadata": {
    "pycharm": {
     "name": "#%% md\n"
    }
   },
   "source": [
    "Now, following method described in Tejera et al.\n",
    "First, we select the activities reporting IC50, GI50 and CC50."
   ]
  },
  {
   "cell_type": "code",
   "execution_count": null,
   "metadata": {
    "pycharm": {
     "name": "#%%\n"
    }
   },
   "outputs": [],
   "source": [
    "import pandas as pd\n",
    "\n",
    "activity_24 = pd.read_csv(filepath_or_buffer='data/chembl_24/activity_df.csv', index_col=0)\n",
    "print(activity_24.shape)\n",
    "activity_25 = pd.read_csv(filepath_or_buffer='data/chembl_25/activity_df.csv', index_col=0)\n",
    "print(activity_25.shape)\n",
    "activity_26 = pd.read_csv(filepath_or_buffer='data/chembl_26/activity_df.csv', index_col=0)\n",
    "print(activity_26.shape)\n",
    "activity_27 = pd.read_csv(filepath_or_buffer='data/chembl_27/activity_df.csv', index_col=0)\n",
    "print(activity_27.shape)\n",
    "activity_24 = activity_24[activity_24.std_type.isin(['IC50', 'GI50', 'CC50'])]\n",
    "print(activity_24.shape, 'activities')\n",
    "activity_25 = activity_25[activity_25.std_type.isin(['IC50', 'GI50', 'CC50'])]\n",
    "print(activity_25.shape, 'activities')\n",
    "activity_26 = activity_26[activity_26.std_type.isin(['IC50', 'GI50', 'CC50'])]\n",
    "print(activity_26.shape, 'activities')\n",
    "activity_27 = activity_27[activity_27.std_type.isin(['IC50', 'GI50', 'CC50'])]\n",
    "print(activity_27.shape, 'activities')\n",
    "\n",
    "activity_24.to_csv(path_or_buf='data/chembl_24/activity_24.csv', header=True, index=True)\n",
    "activity_25.to_csv(path_or_buf='data/chembl_25/activity_25.csv', header=True, index=True)\n",
    "activity_26.to_csv(path_or_buf='data/chembl_26/activity_26.csv', header=True, index=True)\n",
    "activity_27.to_csv(path_or_buf='data/chembl_27/activity_27.csv', header=True, index=True)"
   ]
  },
  {
   "cell_type": "markdown",
   "metadata": {
    "pycharm": {
     "name": "#%% md\n"
    }
   },
   "source": [
    "We have to remove salts from chemical compounds"
   ]
  },
  {
   "cell_type": "code",
   "execution_count": null,
   "metadata": {
    "pycharm": {
     "name": "#%%\n"
    }
   },
   "outputs": [],
   "source": [
    "comp_24 = pd.read_csv(filepath_or_buffer='data/chembl_24/comp_df.csv', index_col=0)\n",
    "comp_list = list()\n",
    "for comp_idx in range(len(comp_24)):\n",
    "    smiles = comp_24.iloc[comp_idx]['smiles']\n",
    "    comp_id = comp_24.iloc[comp_idx]['comp_id']\n",
    "    pref_name = comp_24.iloc[comp_idx]['pref_name']\n",
    "    if '.' in smiles:\n",
    "        splt_smiles = str(smiles).split('.')\n",
    "        smiles = max(splt_smiles, key=len)\n",
    "    comp_list.append([comp_id, pref_name, smiles])\n",
    "comp_24 = pd.DataFrame(comp_list, columns=['comp_id', 'pref_name', 'smiles'])\n",
    "# When salts are removed, there are inconsistencies with comp_id\n",
    "duplicates = comp_24[comp_24['smiles'].duplicated()]\n",
    "comp_24.drop_duplicates(subset='smiles', keep='first', inplace=True, ignore_index=True)\n",
    "d = pd.merge(left=duplicates, right=comp_24, how='left', left_on='smiles', right_on='smiles')\n",
    "activity_24 = pd.concat([activity_24[~activity_24['comp_id'].isin(d['comp_id_x'])],\n",
    "                         activity_24[~activity_24['comp_id'].map(d.set_index('comp_id_x')['comp_id_y']).isna()]])\n",
    "\n",
    "comp_25 = pd.read_csv(filepath_or_buffer='data/chembl_25/comp_df.csv', index_col=0)\n",
    "comp_list = list()\n",
    "for comp_idx in range(len(comp_25)):\n",
    "    smiles = comp_25.iloc[comp_idx]['smiles']\n",
    "    comp_id = comp_25.iloc[comp_idx]['comp_id']\n",
    "    pref_name = comp_25.iloc[comp_idx]['pref_name']\n",
    "    if '.' in smiles:\n",
    "        splt_smiles = str(smiles).split('.')\n",
    "        smiles = max(splt_smiles, key=len)\n",
    "    comp_list.append([comp_id, pref_name, smiles])\n",
    "comp_25 = pd.DataFrame(comp_list, columns=['comp_id', 'pref_name', 'smiles'])\n",
    "duplicates = comp_25[comp_25['smiles'].duplicated()]\n",
    "comp_25.drop_duplicates(subset='smiles', keep='first', inplace=True, ignore_index=True)\n",
    "d = pd.merge(left=duplicates, right=comp_25, how='left', left_on='smiles', right_on='smiles')\n",
    "activity_25 = pd.concat([activity_25[~activity_25['comp_id'].isin(d['comp_id_x'])],\n",
    "                         activity_25[~activity_25['comp_id'].map(d.set_index('comp_id_x')['comp_id_y']).isna()]])\n",
    "\n",
    "comp_26 = pd.read_csv(filepath_or_buffer='data/chembl_26/comp_df.csv', index_col=0)\n",
    "comp_list = list()\n",
    "for comp_idx in range(len(comp_26)):\n",
    "    smiles = comp_26.iloc[comp_idx]['smiles']\n",
    "    comp_id = comp_26.iloc[comp_idx]['comp_id']\n",
    "    pref_name = comp_26.iloc[comp_idx]['pref_name']\n",
    "    if '.' in smiles:\n",
    "        splt_smiles = str(smiles).split('.')\n",
    "        smiles = max(splt_smiles, key=len)\n",
    "    comp_list.append([comp_id, pref_name, smiles])\n",
    "comp_26 = pd.DataFrame(comp_list, columns=['comp_id', 'pref_name', 'smiles'])\n",
    "duplicates = comp_26[comp_26['smiles'].duplicated()]\n",
    "comp_26.drop_duplicates(subset='smiles', keep='first', inplace=True, ignore_index=True)\n",
    "d = pd.merge(left=duplicates, right=comp_26, how='left', left_on='smiles', right_on='smiles')\n",
    "activity_26 = pd.concat([activity_26[~activity_26['comp_id'].isin(d['comp_id_x'])],\n",
    "                         activity_26[~activity_26['comp_id'].map(d.set_index('comp_id_x')['comp_id_y']).isna()]])\n",
    "\n",
    "comp_27 = pd.read_csv(filepath_or_buffer='data/chembl_27/comp_df.csv', index_col=0)\n",
    "comp_list = list()\n",
    "for comp_idx in range(len(comp_27)):\n",
    "    smiles = comp_27.iloc[comp_idx]['smiles']\n",
    "    comp_id = comp_27.iloc[comp_idx]['comp_id']\n",
    "    pref_name = comp_27.iloc[comp_idx]['pref_name']\n",
    "    if '.' in smiles:\n",
    "        splt_smiles = str(smiles).split('.')\n",
    "        smiles = max(splt_smiles, key=len)\n",
    "    comp_list.append([comp_id, pref_name, smiles])\n",
    "comp_27 = pd.DataFrame(comp_list, columns=['comp_id', 'pref_name', 'smiles'])\n",
    "duplicates = comp_27[comp_27['smiles'].duplicated()]\n",
    "comp_27.drop_duplicates(subset='smiles', keep='first', inplace=True, ignore_index=True)\n",
    "d = pd.merge(left=duplicates, right=comp_27, how='left', left_on='smiles', right_on='smiles')\n",
    "activity_27 = pd.concat([activity_27[~activity_27['comp_id'].isin(d['comp_id_x'])],\n",
    "                         activity_27[~activity_27['comp_id'].map(d.set_index('comp_id_x')['comp_id_y']).isna()]])\n",
    "\n",
    "comp_24.to_csv(path_or_buf='data/chembl_24/comp_24.csv', header=True, index=True)\n",
    "comp_25.to_csv(path_or_buf='data/chembl_25/comp_25.csv', header=True, index=True)\n",
    "comp_26.to_csv(path_or_buf='data/chembl_26/comp_26.csv', header=True, index=True)\n",
    "comp_27.to_csv(path_or_buf='data/chembl_27/comp_27.csv', header=True, index=True)\n",
    "\n",
    "activity_24.to_csv(path_or_buf='data/chembl_24/activity_24.csv', header=True, index=True)\n",
    "activity_25.to_csv(path_or_buf='data/chembl_25/activity_25.csv', header=True, index=True)\n",
    "activity_26.to_csv(path_or_buf='data/chembl_26/activity_26.csv', header=True, index=True)\n",
    "activity_27.to_csv(path_or_buf='data/chembl_27/activity_27.csv', header=True, index=True)\n"
   ]
  },
  {
   "cell_type": "markdown",
   "metadata": {},
   "source": [
    "Now, we classify activities into _sensitive_ and _resistant_.\n",
    "An activity is _sensitive_ when concentration is lesser than or equal to 10 uM, and _resistant_ if the concentration\n",
    "is bigger than 10uM."
   ]
  },
  {
   "cell_type": "code",
   "execution_count": null,
   "metadata": {
    "pycharm": {
     "name": "#%%\n"
    }
   },
   "outputs": [],
   "source": [
    "import pandas as pd\n",
    "import numpy as np\n",
    "\n",
    "activity_24 = pd.read_csv(filepath_or_buffer='data/chembl_24/activity_24.csv', index_col=0)\n",
    "activity_25 = pd.read_csv(filepath_or_buffer='data/chembl_25/activity_25.csv', index_col=0)\n",
    "activity_26 = pd.read_csv(filepath_or_buffer='data/chembl_26/activity_26.csv', index_col=0)\n",
    "activity_27 = pd.read_csv(filepath_or_buffer='data/chembl_27/activity_27.csv', index_col=0)\n",
    "\n",
    "\n",
    "def prepocess_df(df):\n",
    "    # Filtering activities with Standard Units expressed in nM or uM\n",
    "    df = df[df.std_units.isin(['nM', '/uM', 'umol/dm3'])]\n",
    "\n",
    "    # Transforming uM to nM\n",
    "    df.loc[df['std_units'].isin(['umol/dm3','/uM']), 'std_value'] = \\\n",
    "        df[df['std_units'].isin(['umol/dm3','/uM'])]['std_value'] * 1000.0\n",
    "    df.loc[df['std_units'].isin(['umol/dm3','/uM']), 'std_units'] = 'nM'\n",
    "\n",
    "    # Drop cell lines with less than 10 compounds\n",
    "    activity_count = df.groupby(by=['cell_id']).size()\n",
    "    df = df[df['cell_id'].isin(activity_count[activity_count >= 10].index)]\n",
    "\n",
    "    # Column 'activity' is 1 for active, 0 for inactive\n",
    "    df['activity'] = np.where(df['std_value'] <= 10000.0, 1, 0)\n",
    "    return df\n",
    "\n",
    "activity_24 = prepocess_df(activity_24)\n",
    "activity_25 = prepocess_df(activity_25)\n",
    "activity_26 = prepocess_df(activity_26)\n",
    "activity_27 = prepocess_df(activity_27)\n",
    "\n",
    "# Writing to disk\n",
    "activity_24.to_csv(path_or_buf='data/chembl_24/activity_24.csv', header=True, index=True)\n",
    "activity_25.to_csv(path_or_buf='data/chembl_25/activity_25.csv', header=True, index=True)\n",
    "activity_26.to_csv(path_or_buf='data/chembl_26/activity_26.csv', header=True, index=True)\n",
    "activity_27.to_csv(path_or_buf='data/chembl_27/activity_27.csv', header=True, index=True)\n",
    "\n",
    "\n",
    "def summary_df(df):\n",
    "    # Build summary\n",
    "    df_count = df.groupby(by=['cell_id', 'comp_id', 'activity'])\n",
    "    # Drop disagreements\n",
    "    df_count = pd.DataFrame(df_count.size()[df_count.size()==1].index.tolist(),\n",
    "                                        columns=['cell_id', 'comp_id', 'activity'])\n",
    "    return df_count\n",
    "\n",
    "summary_24 = summary_df(activity_24)\n",
    "summary_25 = summary_df(activity_25)\n",
    "summary_26 = summary_df(activity_26)\n",
    "summary_27 = summary_df(activity_27)\n",
    "\n",
    "summary_24[~summary_24['comp_id'].isin(comp_24['comp_id'])]\n",
    "\n",
    "# Writing to disk\n",
    "summary_24.to_csv(path_or_buf='data/chembl_24/summary_24.csv', header=True, index=True)\n",
    "summary_25.to_csv(path_or_buf='data/chembl_25/summary_25.csv', header=True, index=True)\n",
    "summary_26.to_csv(path_or_buf='data/chembl_26/summary_26.csv', header=True, index=True)\n",
    "summary_27.to_csv(path_or_buf='data/chembl_27/summary_27.csv', header=True, index=True)\n"
   ]
  }
 ],
 "metadata": {
  "kernelspec": {
   "display_name": "Python 3",
   "language": "python",
   "name": "python3"
  },
  "language_info": {
   "codemirror_mode": {
    "name": "ipython",
    "version": 3
   },
   "file_extension": ".py",
   "mimetype": "text/x-python",
   "name": "python",
   "nbconvert_exporter": "python",
   "pygments_lexer": "ipython3",
   "version": "3.7.6"
  }
 },
 "nbformat": 4,
 "nbformat_minor": 1
}